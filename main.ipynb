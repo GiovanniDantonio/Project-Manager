{
  "nbformat": 4,
  "nbformat_minor": 0,
  "metadata": {
    "colab": {
      "provenance": [],
      "authorship_tag": "ABX9TyOuksUFQ1d55ZsGw5KrzpGF",
      "include_colab_link": true
    },
    "kernelspec": {
      "name": "python3",
      "display_name": "Python 3"
    },
    "language_info": {
      "name": "python"
    }
  },
  "cells": [
    {
      "cell_type": "markdown",
      "metadata": {
        "id": "view-in-github",
        "colab_type": "text"
      },
      "source": [
        "<a href=\"https://colab.research.google.com/github/GiovanniDantonio/Project-Manager/blob/main/main.ipynb\" target=\"_parent\"><img src=\"https://colab.research.google.com/assets/colab-badge.svg\" alt=\"Open In Colab\"/></a>"
      ]
    },
    {
      "cell_type": "code",
      "execution_count": null,
      "metadata": {
        "colab": {
          "base_uri": "https://localhost:8080/",
          "height": 143
        },
        "id": "mjP4gI3x-J5n",
        "outputId": "bbc53dc5-d01e-46da-8159-8952f16a5a53"
      },
      "outputs": [
        {
          "output_type": "error",
          "ename": "IndentationError",
          "evalue": "expected an indented block after function definition on line 4 (<ipython-input-1-5d70ef2b8335>, line 6)",
          "traceback": [
            "\u001b[0;36m  File \u001b[0;32m\"<ipython-input-1-5d70ef2b8335>\"\u001b[0;36m, line \u001b[0;32m6\u001b[0m\n\u001b[0;31m    def evaluate_model():\u001b[0m\n\u001b[0m    ^\u001b[0m\n\u001b[0;31mIndentationError\u001b[0m\u001b[0;31m:\u001b[0m expected an indented block after function definition on line 4\n"
          ]
        }
      ],
      "source": [
        "import torch\n",
        "from torchvision import datasets\n",
        "\n",
        "def train_model():\n",
        "\n",
        "def evaluate_model():"
      ]
    },
    {
      "cell_type": "code",
      "source": [],
      "metadata": {
        "id": "B_SG0wAD-0gk"
      },
      "execution_count": null,
      "outputs": []
    }
  ]
}